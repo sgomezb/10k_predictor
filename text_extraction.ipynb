{
  "cells": [
    {
      "cell_type": "markdown",
      "metadata": {
        "id": "view-in-github",
        "colab_type": "text"
      },
      "source": [
        "<a href=\"https://colab.research.google.com/github/sgomezb/10k_predictor/blob/main/text_extraction.ipynb\" target=\"_parent\"><img src=\"https://colab.research.google.com/assets/colab-badge.svg\" alt=\"Open In Colab\"/></a>"
      ]
    },
    {
      "cell_type": "code",
      "execution_count": null,
      "metadata": {
        "colab": {
          "base_uri": "https://localhost:8080/"
        },
        "id": "OfiESl4rLcU7",
        "outputId": "81d1f6f1-a466-4a36-f7cd-b77734af0bae"
      },
      "outputs": [
        {
          "output_type": "stream",
          "name": "stdout",
          "text": [
            "Looking in indexes: https://pypi.org/simple, https://us-python.pkg.dev/colab-wheels/public/simple/\n",
            "Collecting PyPDF2\n",
            "  Downloading pypdf2-3.0.1-py3-none-any.whl (232 kB)\n",
            "\u001b[2K     \u001b[90m━━━━━━━━━━━━━━━━━━━━━━━━━━━━━━━━━━━━━━━\u001b[0m \u001b[32m232.6/232.6 kB\u001b[0m \u001b[31m2.2 MB/s\u001b[0m eta \u001b[36m0:00:00\u001b[0m\n",
            "\u001b[?25hInstalling collected packages: PyPDF2\n",
            "Successfully installed PyPDF2-3.0.1\n"
          ]
        }
      ],
      "source": [
        "!pip install PyPDF2"
      ]
    },
    {
      "cell_type": "code",
      "execution_count": null,
      "metadata": {
        "id": "-M3TKV6JHc0U"
      },
      "outputs": [],
      "source": [
        "#Para manejo de dataframes\n",
        "import pandas as pd                     \n",
        "#Expresiones regulares\n",
        "import re                               \n",
        "#Para gráficas\n",
        "import matplotlib.pyplot as plt       \n",
        "#Para crear el BoW\n",
        "from gensim.corpora import Dictionary    \n",
        "#Procesamiento multiple\n",
        "import multiprocessing as mp            \n",
        "import time                             \n",
        "#Para el modelo LDA\n",
        "from gensim.models.ldamulticore import LdaMulticore       \n",
        "#Para el modelo LDA\n",
        "from gensim.models import CoherenceModel             \n",
        "#Para stemming\n",
        "from nltk.stem import PorterStemmer         \n",
        "#Para la creación del BoW\n",
        "from gensim.test.utils import common_texts\n",
        "#Para la creación del BoW\n",
        "from gensim.corpora.dictionary import Dictionary\n",
        "#Para la creación del modelo LDA\n",
        "from gensim.models.ldamulticore import LdaModel\n",
        "from nltk.stem import WordNetLemmatizer\n",
        "import PyPDF2"
      ]
    },
    {
      "cell_type": "code",
      "execution_count": null,
      "metadata": {
        "colab": {
          "base_uri": "https://localhost:8080/"
        },
        "id": "n9hJAiKyI7fK",
        "outputId": "b4086f35-71e1-48b4-ff21-202631e84f7e"
      },
      "outputs": [
        {
          "output_type": "stream",
          "name": "stdout",
          "text": [
            "Drive already mounted at /content/gdrive; to attempt to forcibly remount, call drive.mount(\"/content/gdrive\", force_remount=True).\n"
          ]
        }
      ],
      "source": [
        "#configuración en google colab de spark y pyspark\n",
        "from google.colab import drive\n",
        "drive.mount('/content/gdrive')"
      ]
    },
    {
      "cell_type": "code",
      "execution_count": null,
      "metadata": {
        "id": "eniKy_y2MYPu"
      },
      "outputs": [],
      "source": [
        "path = '/content/gdrive/MyDrive/10k_predictor/data/raw/unstructured/001.pdf'"
      ]
    },
    {
      "cell_type": "code",
      "execution_count": null,
      "metadata": {
        "id": "KxC6JkB7QkDq"
      },
      "outputs": [],
      "source": [
        "def format_number(num):\n",
        "    return \"{:03d}\".format(num)"
      ]
    },
    {
      "cell_type": "code",
      "execution_count": null,
      "metadata": {
        "id": "e01fMAGmLoKg"
      },
      "outputs": [],
      "source": [
        "lista = []\n",
        "for i in range(1,111):\n",
        "  id = format_number(i)\n",
        "  path = '/content/gdrive/MyDrive/10k_predictor/data/raw/unstructured/'+id+'.pdf'\n",
        "  textopdf =''\n",
        "  # Abre el archivo PDF en modo de lectura en binario\n",
        "  with open(path, 'rb') as archivo_pdf:\n",
        "      # Crea un objeto PdfReader\n",
        "      lector_pdf = PyPDF2.PdfReader(archivo_pdf)\n",
        "\n",
        "      # Itera sobre cada página del archivo PDF\n",
        "      for pagina_actual in lector_pdf.pages:\n",
        "          # Extrae el texto de la página actual\n",
        "          texto_pagina_actual = pagina_actual.extract_text()\n",
        "\n",
        "          # Haz algo con el texto de la página actual\n",
        "          textopdf += texto_pagina_actual\n",
        "      lista.append(textopdf)"
      ]
    },
    {
      "cell_type": "code",
      "execution_count": null,
      "metadata": {
        "id": "TJFAHusGNuvF"
      },
      "outputs": [],
      "source": [
        "csvpath = '/content/gdrive/MyDrive/10k_predictor/data/raw/structured/RawDataSet.csv'"
      ]
    },
    {
      "cell_type": "code",
      "source": [
        "df = pd.read_csv(csvpath)"
      ],
      "metadata": {
        "id": "eh51UlIf-Ifz"
      },
      "execution_count": null,
      "outputs": []
    },
    {
      "cell_type": "code",
      "source": [
        "df.head()"
      ],
      "metadata": {
        "colab": {
          "base_uri": "https://localhost:8080/",
          "height": 320
        },
        "id": "C8Q5ZKZg_WGt",
        "outputId": "20d9c69a-f303-4c2f-f8ab-8d75f07ab1fe"
      },
      "execution_count": null,
      "outputs": [
        {
          "output_type": "execute_result",
          "data": {
            "text/plain": [
              "   id    ticker                         name           eva    eva_spd  \\\n",
              "0   1   AAPL UW                    APPLE INC  80829.151310  48.159316   \n",
              "1   2   MSFT UW               MICROSOFT CORP  36013.162230  13.581724   \n",
              "2   3  GOOGL UW            ALPHABET INC-CL A  26391.742740   9.339334   \n",
              "3   4   AMZN UW               AMAZON.COM INC  -8289.172578  -2.674548   \n",
              "4   5  BRK/B UN  BERKSHIRE HATHAWAY INC-CL B -85871.047610 -12.529865   \n",
              "\n",
              "        mkt_cap                                              texto  \n",
              "0  2.643060e+12  UNITED STATES\\nSECURITIES AND EXCHANGE COMMISS...  \n",
              "1  2.137120e+12   \\nUNITED STATES\\nSECURITIES AND EXCHANGE COMM...  \n",
              "2  1.348900e+12  UNITED STATES\\nSECURITIES AND EXCHANGE COMMISS...  \n",
              "3  1.063770e+12  Table of Contents\\nUNITED STATES\\nSECURITIES A...  \n",
              "4  7.104520e+11    \\nUNITED STATES\\nSECURITIES AND EXCHANGE COM...  "
            ],
            "text/html": [
              "\n",
              "  <div id=\"df-a282e3fc-f2f9-4c9a-9156-51e63e3d6cd2\">\n",
              "    <div class=\"colab-df-container\">\n",
              "      <div>\n",
              "<style scoped>\n",
              "    .dataframe tbody tr th:only-of-type {\n",
              "        vertical-align: middle;\n",
              "    }\n",
              "\n",
              "    .dataframe tbody tr th {\n",
              "        vertical-align: top;\n",
              "    }\n",
              "\n",
              "    .dataframe thead th {\n",
              "        text-align: right;\n",
              "    }\n",
              "</style>\n",
              "<table border=\"1\" class=\"dataframe\">\n",
              "  <thead>\n",
              "    <tr style=\"text-align: right;\">\n",
              "      <th></th>\n",
              "      <th>id</th>\n",
              "      <th>ticker</th>\n",
              "      <th>name</th>\n",
              "      <th>eva</th>\n",
              "      <th>eva_spd</th>\n",
              "      <th>mkt_cap</th>\n",
              "      <th>texto</th>\n",
              "    </tr>\n",
              "  </thead>\n",
              "  <tbody>\n",
              "    <tr>\n",
              "      <th>0</th>\n",
              "      <td>1</td>\n",
              "      <td>AAPL UW</td>\n",
              "      <td>APPLE INC</td>\n",
              "      <td>80829.151310</td>\n",
              "      <td>48.159316</td>\n",
              "      <td>2.643060e+12</td>\n",
              "      <td>UNITED STATES\\nSECURITIES AND EXCHANGE COMMISS...</td>\n",
              "    </tr>\n",
              "    <tr>\n",
              "      <th>1</th>\n",
              "      <td>2</td>\n",
              "      <td>MSFT UW</td>\n",
              "      <td>MICROSOFT CORP</td>\n",
              "      <td>36013.162230</td>\n",
              "      <td>13.581724</td>\n",
              "      <td>2.137120e+12</td>\n",
              "      <td>\\nUNITED STATES\\nSECURITIES AND EXCHANGE COMM...</td>\n",
              "    </tr>\n",
              "    <tr>\n",
              "      <th>2</th>\n",
              "      <td>3</td>\n",
              "      <td>GOOGL UW</td>\n",
              "      <td>ALPHABET INC-CL A</td>\n",
              "      <td>26391.742740</td>\n",
              "      <td>9.339334</td>\n",
              "      <td>1.348900e+12</td>\n",
              "      <td>UNITED STATES\\nSECURITIES AND EXCHANGE COMMISS...</td>\n",
              "    </tr>\n",
              "    <tr>\n",
              "      <th>3</th>\n",
              "      <td>4</td>\n",
              "      <td>AMZN UW</td>\n",
              "      <td>AMAZON.COM INC</td>\n",
              "      <td>-8289.172578</td>\n",
              "      <td>-2.674548</td>\n",
              "      <td>1.063770e+12</td>\n",
              "      <td>Table of Contents\\nUNITED STATES\\nSECURITIES A...</td>\n",
              "    </tr>\n",
              "    <tr>\n",
              "      <th>4</th>\n",
              "      <td>5</td>\n",
              "      <td>BRK/B UN</td>\n",
              "      <td>BERKSHIRE HATHAWAY INC-CL B</td>\n",
              "      <td>-85871.047610</td>\n",
              "      <td>-12.529865</td>\n",
              "      <td>7.104520e+11</td>\n",
              "      <td>\\nUNITED STATES\\nSECURITIES AND EXCHANGE COM...</td>\n",
              "    </tr>\n",
              "  </tbody>\n",
              "</table>\n",
              "</div>\n",
              "      <button class=\"colab-df-convert\" onclick=\"convertToInteractive('df-a282e3fc-f2f9-4c9a-9156-51e63e3d6cd2')\"\n",
              "              title=\"Convert this dataframe to an interactive table.\"\n",
              "              style=\"display:none;\">\n",
              "        \n",
              "  <svg xmlns=\"http://www.w3.org/2000/svg\" height=\"24px\"viewBox=\"0 0 24 24\"\n",
              "       width=\"24px\">\n",
              "    <path d=\"M0 0h24v24H0V0z\" fill=\"none\"/>\n",
              "    <path d=\"M18.56 5.44l.94 2.06.94-2.06 2.06-.94-2.06-.94-.94-2.06-.94 2.06-2.06.94zm-11 1L8.5 8.5l.94-2.06 2.06-.94-2.06-.94L8.5 2.5l-.94 2.06-2.06.94zm10 10l.94 2.06.94-2.06 2.06-.94-2.06-.94-.94-2.06-.94 2.06-2.06.94z\"/><path d=\"M17.41 7.96l-1.37-1.37c-.4-.4-.92-.59-1.43-.59-.52 0-1.04.2-1.43.59L10.3 9.45l-7.72 7.72c-.78.78-.78 2.05 0 2.83L4 21.41c.39.39.9.59 1.41.59.51 0 1.02-.2 1.41-.59l7.78-7.78 2.81-2.81c.8-.78.8-2.07 0-2.86zM5.41 20L4 18.59l7.72-7.72 1.47 1.35L5.41 20z\"/>\n",
              "  </svg>\n",
              "      </button>\n",
              "      \n",
              "  <style>\n",
              "    .colab-df-container {\n",
              "      display:flex;\n",
              "      flex-wrap:wrap;\n",
              "      gap: 12px;\n",
              "    }\n",
              "\n",
              "    .colab-df-convert {\n",
              "      background-color: #E8F0FE;\n",
              "      border: none;\n",
              "      border-radius: 50%;\n",
              "      cursor: pointer;\n",
              "      display: none;\n",
              "      fill: #1967D2;\n",
              "      height: 32px;\n",
              "      padding: 0 0 0 0;\n",
              "      width: 32px;\n",
              "    }\n",
              "\n",
              "    .colab-df-convert:hover {\n",
              "      background-color: #E2EBFA;\n",
              "      box-shadow: 0px 1px 2px rgba(60, 64, 67, 0.3), 0px 1px 3px 1px rgba(60, 64, 67, 0.15);\n",
              "      fill: #174EA6;\n",
              "    }\n",
              "\n",
              "    [theme=dark] .colab-df-convert {\n",
              "      background-color: #3B4455;\n",
              "      fill: #D2E3FC;\n",
              "    }\n",
              "\n",
              "    [theme=dark] .colab-df-convert:hover {\n",
              "      background-color: #434B5C;\n",
              "      box-shadow: 0px 1px 3px 1px rgba(0, 0, 0, 0.15);\n",
              "      filter: drop-shadow(0px 1px 2px rgba(0, 0, 0, 0.3));\n",
              "      fill: #FFFFFF;\n",
              "    }\n",
              "  </style>\n",
              "\n",
              "      <script>\n",
              "        const buttonEl =\n",
              "          document.querySelector('#df-a282e3fc-f2f9-4c9a-9156-51e63e3d6cd2 button.colab-df-convert');\n",
              "        buttonEl.style.display =\n",
              "          google.colab.kernel.accessAllowed ? 'block' : 'none';\n",
              "\n",
              "        async function convertToInteractive(key) {\n",
              "          const element = document.querySelector('#df-a282e3fc-f2f9-4c9a-9156-51e63e3d6cd2');\n",
              "          const dataTable =\n",
              "            await google.colab.kernel.invokeFunction('convertToInteractive',\n",
              "                                                     [key], {});\n",
              "          if (!dataTable) return;\n",
              "\n",
              "          const docLinkHtml = 'Like what you see? Visit the ' +\n",
              "            '<a target=\"_blank\" href=https://colab.research.google.com/notebooks/data_table.ipynb>data table notebook</a>'\n",
              "            + ' to learn more about interactive tables.';\n",
              "          element.innerHTML = '';\n",
              "          dataTable['output_type'] = 'display_data';\n",
              "          await google.colab.output.renderOutput(dataTable, element);\n",
              "          const docLink = document.createElement('div');\n",
              "          docLink.innerHTML = docLinkHtml;\n",
              "          element.appendChild(docLink);\n",
              "        }\n",
              "      </script>\n",
              "    </div>\n",
              "  </div>\n",
              "  "
            ]
          },
          "metadata": {},
          "execution_count": 31
        }
      ]
    },
    {
      "cell_type": "code",
      "source": [
        "df = df.rename(columns={'Ticker': 'ticker','Name': 'name','Co Des': 'co_des','WACC Economic Value Added': 'eva','WACC EVA Spd':'eva_spd','Mkt Cap': 'mkt_cap','# Num': 'id'})"
      ],
      "metadata": {
        "id": "fwMlaB_E_DMx"
      },
      "execution_count": null,
      "outputs": []
    },
    {
      "cell_type": "code",
      "source": [
        "df = df[['id','ticker','name','eva','eva_spd','mkt_cap']]"
      ],
      "metadata": {
        "colab": {
          "base_uri": "https://localhost:8080/",
          "height": 206
        },
        "id": "io7q4RTeAm08",
        "outputId": "04e93b34-d283-446b-fa54-365812adfa6f"
      },
      "execution_count": null,
      "outputs": [
        {
          "output_type": "execute_result",
          "data": {
            "text/plain": [
              "   id    ticker                         name           eva    eva_spd  \\\n",
              "0   1   AAPL UW                    APPLE INC  80829.151310  48.159316   \n",
              "1   2   MSFT UW               MICROSOFT CORP  36013.162230  13.581724   \n",
              "2   3  GOOGL UW            ALPHABET INC-CL A  26391.742740   9.339334   \n",
              "3   4   AMZN UW               AMAZON.COM INC  -8289.172578  -2.674548   \n",
              "4   5  BRK/B UN  BERKSHIRE HATHAWAY INC-CL B -85871.047610 -12.529865   \n",
              "\n",
              "        mkt_cap  \n",
              "0  2.643060e+12  \n",
              "1  2.137120e+12  \n",
              "2  1.348900e+12  \n",
              "3  1.063770e+12  \n",
              "4  7.104520e+11  "
            ],
            "text/html": [
              "\n",
              "  <div id=\"df-5a8475bd-5f14-479e-a0fc-69a8f76cc023\">\n",
              "    <div class=\"colab-df-container\">\n",
              "      <div>\n",
              "<style scoped>\n",
              "    .dataframe tbody tr th:only-of-type {\n",
              "        vertical-align: middle;\n",
              "    }\n",
              "\n",
              "    .dataframe tbody tr th {\n",
              "        vertical-align: top;\n",
              "    }\n",
              "\n",
              "    .dataframe thead th {\n",
              "        text-align: right;\n",
              "    }\n",
              "</style>\n",
              "<table border=\"1\" class=\"dataframe\">\n",
              "  <thead>\n",
              "    <tr style=\"text-align: right;\">\n",
              "      <th></th>\n",
              "      <th>id</th>\n",
              "      <th>ticker</th>\n",
              "      <th>name</th>\n",
              "      <th>eva</th>\n",
              "      <th>eva_spd</th>\n",
              "      <th>mkt_cap</th>\n",
              "    </tr>\n",
              "  </thead>\n",
              "  <tbody>\n",
              "    <tr>\n",
              "      <th>0</th>\n",
              "      <td>1</td>\n",
              "      <td>AAPL UW</td>\n",
              "      <td>APPLE INC</td>\n",
              "      <td>80829.151310</td>\n",
              "      <td>48.159316</td>\n",
              "      <td>2.643060e+12</td>\n",
              "    </tr>\n",
              "    <tr>\n",
              "      <th>1</th>\n",
              "      <td>2</td>\n",
              "      <td>MSFT UW</td>\n",
              "      <td>MICROSOFT CORP</td>\n",
              "      <td>36013.162230</td>\n",
              "      <td>13.581724</td>\n",
              "      <td>2.137120e+12</td>\n",
              "    </tr>\n",
              "    <tr>\n",
              "      <th>2</th>\n",
              "      <td>3</td>\n",
              "      <td>GOOGL UW</td>\n",
              "      <td>ALPHABET INC-CL A</td>\n",
              "      <td>26391.742740</td>\n",
              "      <td>9.339334</td>\n",
              "      <td>1.348900e+12</td>\n",
              "    </tr>\n",
              "    <tr>\n",
              "      <th>3</th>\n",
              "      <td>4</td>\n",
              "      <td>AMZN UW</td>\n",
              "      <td>AMAZON.COM INC</td>\n",
              "      <td>-8289.172578</td>\n",
              "      <td>-2.674548</td>\n",
              "      <td>1.063770e+12</td>\n",
              "    </tr>\n",
              "    <tr>\n",
              "      <th>4</th>\n",
              "      <td>5</td>\n",
              "      <td>BRK/B UN</td>\n",
              "      <td>BERKSHIRE HATHAWAY INC-CL B</td>\n",
              "      <td>-85871.047610</td>\n",
              "      <td>-12.529865</td>\n",
              "      <td>7.104520e+11</td>\n",
              "    </tr>\n",
              "  </tbody>\n",
              "</table>\n",
              "</div>\n",
              "      <button class=\"colab-df-convert\" onclick=\"convertToInteractive('df-5a8475bd-5f14-479e-a0fc-69a8f76cc023')\"\n",
              "              title=\"Convert this dataframe to an interactive table.\"\n",
              "              style=\"display:none;\">\n",
              "        \n",
              "  <svg xmlns=\"http://www.w3.org/2000/svg\" height=\"24px\"viewBox=\"0 0 24 24\"\n",
              "       width=\"24px\">\n",
              "    <path d=\"M0 0h24v24H0V0z\" fill=\"none\"/>\n",
              "    <path d=\"M18.56 5.44l.94 2.06.94-2.06 2.06-.94-2.06-.94-.94-2.06-.94 2.06-2.06.94zm-11 1L8.5 8.5l.94-2.06 2.06-.94-2.06-.94L8.5 2.5l-.94 2.06-2.06.94zm10 10l.94 2.06.94-2.06 2.06-.94-2.06-.94-.94-2.06-.94 2.06-2.06.94z\"/><path d=\"M17.41 7.96l-1.37-1.37c-.4-.4-.92-.59-1.43-.59-.52 0-1.04.2-1.43.59L10.3 9.45l-7.72 7.72c-.78.78-.78 2.05 0 2.83L4 21.41c.39.39.9.59 1.41.59.51 0 1.02-.2 1.41-.59l7.78-7.78 2.81-2.81c.8-.78.8-2.07 0-2.86zM5.41 20L4 18.59l7.72-7.72 1.47 1.35L5.41 20z\"/>\n",
              "  </svg>\n",
              "      </button>\n",
              "      \n",
              "  <style>\n",
              "    .colab-df-container {\n",
              "      display:flex;\n",
              "      flex-wrap:wrap;\n",
              "      gap: 12px;\n",
              "    }\n",
              "\n",
              "    .colab-df-convert {\n",
              "      background-color: #E8F0FE;\n",
              "      border: none;\n",
              "      border-radius: 50%;\n",
              "      cursor: pointer;\n",
              "      display: none;\n",
              "      fill: #1967D2;\n",
              "      height: 32px;\n",
              "      padding: 0 0 0 0;\n",
              "      width: 32px;\n",
              "    }\n",
              "\n",
              "    .colab-df-convert:hover {\n",
              "      background-color: #E2EBFA;\n",
              "      box-shadow: 0px 1px 2px rgba(60, 64, 67, 0.3), 0px 1px 3px 1px rgba(60, 64, 67, 0.15);\n",
              "      fill: #174EA6;\n",
              "    }\n",
              "\n",
              "    [theme=dark] .colab-df-convert {\n",
              "      background-color: #3B4455;\n",
              "      fill: #D2E3FC;\n",
              "    }\n",
              "\n",
              "    [theme=dark] .colab-df-convert:hover {\n",
              "      background-color: #434B5C;\n",
              "      box-shadow: 0px 1px 3px 1px rgba(0, 0, 0, 0.15);\n",
              "      filter: drop-shadow(0px 1px 2px rgba(0, 0, 0, 0.3));\n",
              "      fill: #FFFFFF;\n",
              "    }\n",
              "  </style>\n",
              "\n",
              "      <script>\n",
              "        const buttonEl =\n",
              "          document.querySelector('#df-5a8475bd-5f14-479e-a0fc-69a8f76cc023 button.colab-df-convert');\n",
              "        buttonEl.style.display =\n",
              "          google.colab.kernel.accessAllowed ? 'block' : 'none';\n",
              "\n",
              "        async function convertToInteractive(key) {\n",
              "          const element = document.querySelector('#df-5a8475bd-5f14-479e-a0fc-69a8f76cc023');\n",
              "          const dataTable =\n",
              "            await google.colab.kernel.invokeFunction('convertToInteractive',\n",
              "                                                     [key], {});\n",
              "          if (!dataTable) return;\n",
              "\n",
              "          const docLinkHtml = 'Like what you see? Visit the ' +\n",
              "            '<a target=\"_blank\" href=https://colab.research.google.com/notebooks/data_table.ipynb>data table notebook</a>'\n",
              "            + ' to learn more about interactive tables.';\n",
              "          element.innerHTML = '';\n",
              "          dataTable['output_type'] = 'display_data';\n",
              "          await google.colab.output.renderOutput(dataTable, element);\n",
              "          const docLink = document.createElement('div');\n",
              "          docLink.innerHTML = docLinkHtml;\n",
              "          element.appendChild(docLink);\n",
              "        }\n",
              "      </script>\n",
              "    </div>\n",
              "  </div>\n",
              "  "
            ]
          },
          "metadata": {},
          "execution_count": 28
        }
      ]
    }
  ],
  "metadata": {
    "colab": {
      "provenance": [],
      "include_colab_link": true
    },
    "kernelspec": {
      "display_name": "Python 3",
      "name": "python3"
    },
    "language_info": {
      "name": "python"
    }
  },
  "nbformat": 4,
  "nbformat_minor": 0
}