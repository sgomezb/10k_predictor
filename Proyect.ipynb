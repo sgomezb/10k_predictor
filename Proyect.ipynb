{
  "nbformat": 4,
  "nbformat_minor": 0,
  "metadata": {
    "colab": {
      "provenance": [],
      "mount_file_id": "1WNp4ubZKey883UYXO_3h-mtYF-9e2HaE",
      "authorship_tag": "ABX9TyM/vDdui/qtkRSDDmqPQC+6",
      "include_colab_link": true
    },
    "kernelspec": {
      "name": "python3",
      "display_name": "Python 3"
    },
    "language_info": {
      "name": "python"
    }
  },
  "cells": [
    {
      "cell_type": "markdown",
      "metadata": {
        "id": "view-in-github",
        "colab_type": "text"
      },
      "source": [
        "<a href=\"https://colab.research.google.com/github/sgomezb/10k_predictor/blob/main/Proyect.ipynb\" target=\"_parent\"><img src=\"https://colab.research.google.com/assets/colab-badge.svg\" alt=\"Open In Colab\"/></a>"
      ]
    },
    {
      "cell_type": "code",
      "execution_count": null,
      "metadata": {
        "id": "jqPdtCQwIbQ1"
      },
      "outputs": [],
      "source": [
        "import pandas as pd"
      ]
    },
    {
      "cell_type": "code",
      "source": [
        "from google.colab import drive\n",
        "drive.mount('/content/gdrive')"
      ],
      "metadata": {
        "colab": {
          "base_uri": "https://localhost:8080/"
        },
        "id": "N25I71plIvHx",
        "outputId": "1f7f1bd2-43f5-4044-a1dc-dbe9e999d53c"
      },
      "execution_count": null,
      "outputs": [
        {
          "output_type": "stream",
          "name": "stdout",
          "text": [
            "Mounted at /content/gdrive\n"
          ]
        }
      ]
    },
    {
      "cell_type": "code",
      "source": [
        "df = pd.read_csv('/content/gdrive/MyDrive/10k_predictor/data/trusted/TrustedDataset.csv')\n",
        "df.head()"
      ],
      "metadata": {
        "colab": {
          "base_uri": "https://localhost:8080/",
          "height": 320
        },
        "id": "EiYtPX11Inpc",
        "outputId": "c932452f-0b80-4109-ae86-3b185c0cb6c4"
      },
      "execution_count": null,
      "outputs": [
        {
          "output_type": "execute_result",
          "data": {
            "text/plain": [
              "   id    ticker                         name           eva    eva_spd  \\\n",
              "0   1   AAPL UW                    APPLE INC  80829.151310  48.159316   \n",
              "1   2   MSFT UW               MICROSOFT CORP  36013.162230  13.581724   \n",
              "2   3  GOOGL UW            ALPHABET INC-CL A  26391.742740   9.339334   \n",
              "3   4   AMZN UW               AMAZON.COM INC  -8289.172578  -2.674548   \n",
              "4   5  BRK/B UN  BERKSHIRE HATHAWAY INC-CL B -85871.047610 -12.529865   \n",
              "\n",
              "        mkt_cap                                              texto  \n",
              "0  2.643060e+12  UNITED STATES\\nSECURITIES AND EXCHANGE COMMISS...  \n",
              "1  2.137120e+12   \\nUNITED STATES\\nSECURITIES AND EXCHANGE COMM...  \n",
              "2  1.348900e+12  UNITED STATES\\nSECURITIES AND EXCHANGE COMMISS...  \n",
              "3  1.063770e+12  Table of Contents\\nUNITED STATES\\nSECURITIES A...  \n",
              "4  7.104520e+11    \\nUNITED STATES\\nSECURITIES AND EXCHANGE COM...  "
            ],
            "text/html": [
              "\n",
              "  <div id=\"df-da552fd5-d3a9-4961-b626-c013d2c05799\">\n",
              "    <div class=\"colab-df-container\">\n",
              "      <div>\n",
              "<style scoped>\n",
              "    .dataframe tbody tr th:only-of-type {\n",
              "        vertical-align: middle;\n",
              "    }\n",
              "\n",
              "    .dataframe tbody tr th {\n",
              "        vertical-align: top;\n",
              "    }\n",
              "\n",
              "    .dataframe thead th {\n",
              "        text-align: right;\n",
              "    }\n",
              "</style>\n",
              "<table border=\"1\" class=\"dataframe\">\n",
              "  <thead>\n",
              "    <tr style=\"text-align: right;\">\n",
              "      <th></th>\n",
              "      <th>id</th>\n",
              "      <th>ticker</th>\n",
              "      <th>name</th>\n",
              "      <th>eva</th>\n",
              "      <th>eva_spd</th>\n",
              "      <th>mkt_cap</th>\n",
              "      <th>texto</th>\n",
              "    </tr>\n",
              "  </thead>\n",
              "  <tbody>\n",
              "    <tr>\n",
              "      <th>0</th>\n",
              "      <td>1</td>\n",
              "      <td>AAPL UW</td>\n",
              "      <td>APPLE INC</td>\n",
              "      <td>80829.151310</td>\n",
              "      <td>48.159316</td>\n",
              "      <td>2.643060e+12</td>\n",
              "      <td>UNITED STATES\\nSECURITIES AND EXCHANGE COMMISS...</td>\n",
              "    </tr>\n",
              "    <tr>\n",
              "      <th>1</th>\n",
              "      <td>2</td>\n",
              "      <td>MSFT UW</td>\n",
              "      <td>MICROSOFT CORP</td>\n",
              "      <td>36013.162230</td>\n",
              "      <td>13.581724</td>\n",
              "      <td>2.137120e+12</td>\n",
              "      <td>\\nUNITED STATES\\nSECURITIES AND EXCHANGE COMM...</td>\n",
              "    </tr>\n",
              "    <tr>\n",
              "      <th>2</th>\n",
              "      <td>3</td>\n",
              "      <td>GOOGL UW</td>\n",
              "      <td>ALPHABET INC-CL A</td>\n",
              "      <td>26391.742740</td>\n",
              "      <td>9.339334</td>\n",
              "      <td>1.348900e+12</td>\n",
              "      <td>UNITED STATES\\nSECURITIES AND EXCHANGE COMMISS...</td>\n",
              "    </tr>\n",
              "    <tr>\n",
              "      <th>3</th>\n",
              "      <td>4</td>\n",
              "      <td>AMZN UW</td>\n",
              "      <td>AMAZON.COM INC</td>\n",
              "      <td>-8289.172578</td>\n",
              "      <td>-2.674548</td>\n",
              "      <td>1.063770e+12</td>\n",
              "      <td>Table of Contents\\nUNITED STATES\\nSECURITIES A...</td>\n",
              "    </tr>\n",
              "    <tr>\n",
              "      <th>4</th>\n",
              "      <td>5</td>\n",
              "      <td>BRK/B UN</td>\n",
              "      <td>BERKSHIRE HATHAWAY INC-CL B</td>\n",
              "      <td>-85871.047610</td>\n",
              "      <td>-12.529865</td>\n",
              "      <td>7.104520e+11</td>\n",
              "      <td>\\nUNITED STATES\\nSECURITIES AND EXCHANGE COM...</td>\n",
              "    </tr>\n",
              "  </tbody>\n",
              "</table>\n",
              "</div>\n",
              "      <button class=\"colab-df-convert\" onclick=\"convertToInteractive('df-da552fd5-d3a9-4961-b626-c013d2c05799')\"\n",
              "              title=\"Convert this dataframe to an interactive table.\"\n",
              "              style=\"display:none;\">\n",
              "        \n",
              "  <svg xmlns=\"http://www.w3.org/2000/svg\" height=\"24px\"viewBox=\"0 0 24 24\"\n",
              "       width=\"24px\">\n",
              "    <path d=\"M0 0h24v24H0V0z\" fill=\"none\"/>\n",
              "    <path d=\"M18.56 5.44l.94 2.06.94-2.06 2.06-.94-2.06-.94-.94-2.06-.94 2.06-2.06.94zm-11 1L8.5 8.5l.94-2.06 2.06-.94-2.06-.94L8.5 2.5l-.94 2.06-2.06.94zm10 10l.94 2.06.94-2.06 2.06-.94-2.06-.94-.94-2.06-.94 2.06-2.06.94z\"/><path d=\"M17.41 7.96l-1.37-1.37c-.4-.4-.92-.59-1.43-.59-.52 0-1.04.2-1.43.59L10.3 9.45l-7.72 7.72c-.78.78-.78 2.05 0 2.83L4 21.41c.39.39.9.59 1.41.59.51 0 1.02-.2 1.41-.59l7.78-7.78 2.81-2.81c.8-.78.8-2.07 0-2.86zM5.41 20L4 18.59l7.72-7.72 1.47 1.35L5.41 20z\"/>\n",
              "  </svg>\n",
              "      </button>\n",
              "      \n",
              "  <style>\n",
              "    .colab-df-container {\n",
              "      display:flex;\n",
              "      flex-wrap:wrap;\n",
              "      gap: 12px;\n",
              "    }\n",
              "\n",
              "    .colab-df-convert {\n",
              "      background-color: #E8F0FE;\n",
              "      border: none;\n",
              "      border-radius: 50%;\n",
              "      cursor: pointer;\n",
              "      display: none;\n",
              "      fill: #1967D2;\n",
              "      height: 32px;\n",
              "      padding: 0 0 0 0;\n",
              "      width: 32px;\n",
              "    }\n",
              "\n",
              "    .colab-df-convert:hover {\n",
              "      background-color: #E2EBFA;\n",
              "      box-shadow: 0px 1px 2px rgba(60, 64, 67, 0.3), 0px 1px 3px 1px rgba(60, 64, 67, 0.15);\n",
              "      fill: #174EA6;\n",
              "    }\n",
              "\n",
              "    [theme=dark] .colab-df-convert {\n",
              "      background-color: #3B4455;\n",
              "      fill: #D2E3FC;\n",
              "    }\n",
              "\n",
              "    [theme=dark] .colab-df-convert:hover {\n",
              "      background-color: #434B5C;\n",
              "      box-shadow: 0px 1px 3px 1px rgba(0, 0, 0, 0.15);\n",
              "      filter: drop-shadow(0px 1px 2px rgba(0, 0, 0, 0.3));\n",
              "      fill: #FFFFFF;\n",
              "    }\n",
              "  </style>\n",
              "\n",
              "      <script>\n",
              "        const buttonEl =\n",
              "          document.querySelector('#df-da552fd5-d3a9-4961-b626-c013d2c05799 button.colab-df-convert');\n",
              "        buttonEl.style.display =\n",
              "          google.colab.kernel.accessAllowed ? 'block' : 'none';\n",
              "\n",
              "        async function convertToInteractive(key) {\n",
              "          const element = document.querySelector('#df-da552fd5-d3a9-4961-b626-c013d2c05799');\n",
              "          const dataTable =\n",
              "            await google.colab.kernel.invokeFunction('convertToInteractive',\n",
              "                                                     [key], {});\n",
              "          if (!dataTable) return;\n",
              "\n",
              "          const docLinkHtml = 'Like what you see? Visit the ' +\n",
              "            '<a target=\"_blank\" href=https://colab.research.google.com/notebooks/data_table.ipynb>data table notebook</a>'\n",
              "            + ' to learn more about interactive tables.';\n",
              "          element.innerHTML = '';\n",
              "          dataTable['output_type'] = 'display_data';\n",
              "          await google.colab.output.renderOutput(dataTable, element);\n",
              "          const docLink = document.createElement('div');\n",
              "          docLink.innerHTML = docLinkHtml;\n",
              "          element.appendChild(docLink);\n",
              "        }\n",
              "      </script>\n",
              "    </div>\n",
              "  </div>\n",
              "  "
            ]
          },
          "metadata": {},
          "execution_count": 4
        }
      ]
    }
  ]
}